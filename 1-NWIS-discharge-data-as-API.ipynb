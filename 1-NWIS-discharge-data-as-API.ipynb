{
 "cells": [
  {
   "cell_type": "markdown",
   "metadata": {},
   "source": [
    "### Accessing the NWIS Discharge data as an API\n",
    "\n",
    "Here we use the NWIS website listing current discharge conditions in the Eno near Durham gage site. \n",
    "\n",
    "http://waterdata.usgs.gov/nwis/uv?cb_00060=on&cb_00065=on&format=rdb&site_no=02085070&period=1&begin_date=&end_date=\n",
    "\n",
    "But now we'll examine the URL of this data site as a web service and access it using Python's `requests` package, which makes data access really quite easy. \n",
    "\n",
    "As you'll see in the example below, the `requests` package constructs a web service request with two parameters. The first is the full service address (`http://waterdata.usgs.gov/nwis/uv`), which is followed by the set of service parameters, passed as a Python dictionary."
   ]
  },
  {
   "cell_type": "code",
   "execution_count": null,
   "metadata": {},
   "outputs": [],
   "source": [
    "#import the module\n",
    "import requests"
   ]
  },
  {
   "cell_type": "code",
   "execution_count": null,
   "metadata": {},
   "outputs": [],
   "source": [
    "#dissect the URL into it's components, for easy comprehension -- and easy modification\n",
    "serviceURL = 'http://waterdata.usgs.gov/nwis/uv'\n",
    "parameters = {'cb_00060':'on',\n",
    "              'cb_00065':'on',\n",
    "              'format':'rdb',\n",
    "              'period':'1',\n",
    "              'site_no':'02085070',\n",
    "              'begin_date':'',\n",
    "              'end_date':''\n",
    "             }"
   ]
  },
  {
   "cell_type": "markdown",
   "metadata": {},
   "source": [
    "Ok, here we send the request, storing the response in a variable called `response`. The second line extacts the response as raw text into the variable `responseText`."
   ]
  },
  {
   "cell_type": "code",
   "execution_count": null,
   "metadata": {},
   "outputs": [],
   "source": [
    "#Pass the url and its parameters to the server and get its response\n",
    "response = requests.get(serviceURL, parameters)\n",
    "responseText = response.text"
   ]
  },
  {
   "cell_type": "code",
   "execution_count": null,
   "metadata": {},
   "outputs": [],
   "source": [
    "#What did we get? \n",
    "print(responseText)"
   ]
  },
  {
   "cell_type": "markdown",
   "metadata": {},
   "source": [
    "► Try modifying the code to get data for site 02085039 (Eno River At Cole Mill Rd Nr Huckleberry Spring)..."
   ]
  },
  {
   "cell_type": "code",
   "execution_count": null,
   "metadata": {},
   "outputs": [],
   "source": [
    "#Convert the response text into a list of lines and print the second to last line\n",
    "responseLines = responseText.split('\\n')\n",
    "print(responseLines[-2])"
   ]
  }
 ],
 "metadata": {
  "kernelspec": {
   "display_name": "Python 3",
   "language": "python",
   "name": "python3"
  },
  "language_info": {
   "codemirror_mode": {
    "name": "ipython",
    "version": 3
   },
   "file_extension": ".py",
   "mimetype": "text/x-python",
   "name": "python",
   "nbconvert_exporter": "python",
   "pygments_lexer": "ipython3",
   "version": "3.6.6"
  }
 },
 "nbformat": 4,
 "nbformat_minor": 2
}
