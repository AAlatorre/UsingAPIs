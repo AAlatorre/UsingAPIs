{
 "cells": [
  {
   "cell_type": "markdown",
   "metadata": {},
   "source": [
    "### Using the BISON API\n",
    "The USGS provides an API for accessing species observation data. https://bison.usgs.gov/doc/api.jsp\n",
    "\n",
    "This API is much better documented than the NWIS API and we'll use it to dig a bit deeper into how the `requests` package can faciliate data access via APIs. "
   ]
  },
  {
   "cell_type": "markdown",
   "metadata": {},
   "source": [
    "We'll begin by replicating the example API call they show on their web page:<br> \n",
    "[https://bison.usgs.gov/api/search.json?species=Bison bison&type=scientific_name&start=0&count=1](\n",
    "https://bison.usgs.gov/api/search.json?species=Bison%20bison&type=scientific_name&start=0&count=1)"
   ]
  },
  {
   "cell_type": "code",
   "execution_count": 1,
   "metadata": {},
   "outputs": [],
   "source": [
    "#First, import the wonderful requests module\n",
    "import requests"
   ]
  },
  {
   "cell_type": "code",
   "execution_count": 2,
   "metadata": {},
   "outputs": [],
   "source": [
    "#Now, we'll deconstruct the example URL into the service URL and parameters, saving the paramters as a dictionary\n",
    "url = 'http://bison.usgs.gov/api/search.json'\n",
    "params = {'species':'Bison bison',\n",
    "          'type':'scientific_name',\n",
    "          'start':'0',\n",
    "          'count':'10'\n",
    "         }"
   ]
  },
  {
   "cell_type": "code",
   "execution_count": 5,
   "metadata": {
    "collapsed": true
   },
   "outputs": [
    {
     "name": "stdout",
     "output_type": "stream",
     "text": [
      "{\"occurrences\":{\"legend\":{\"fossil\":359,\"observation\":927,\"centroid\":1,\"specimen\":946,\"unknown\":6}},\"total\":2238,\"searchTime\":0,\"offset\":0,\"data\":[{\"geo\":\"Yes\",\"provider\":\"Conservation of Arctic Flora and Fauna\",\"name\":\"Bison bison\",\"decimalLongitude\":\"-117.6500015258789\",\"decimalLatitude\":\"61.366668701171875\",\"occurrenceID\":\"68428522\",\"common_name\":\"bison, American bison, American Bison, Bisonte americano\",\"basis\":\"Observation\"},{\"geo\":\"Yes\",\"provider\":\"Conservation of Arctic Flora and Fauna\",\"name\":\"Bison bison\",\"decimalLongitude\":\"-117.6500015258789\",\"decimalLatitude\":\"61.366668701171875\",\"occurrenceID\":\"68428523\",\"common_name\":\"bison, American bison, American Bison, Bisonte americano\",\"basis\":\"Observation\"},{\"geo\":\"Yes\",\"provider\":\"Conservation of Arctic Flora and Fauna\",\"name\":\"Bison bison\",\"decimalLongitude\":\"-117.6500015258789\",\"decimalLatitude\":\"61.366668701171875\",\"occurrenceID\":\"68428524\",\"common_name\":\"bison, American bison, American Bison, Bisonte americano\",\"basis\":\"Observation\"},{\"geo\":\"Yes\",\"provider\":\"Conservation of Arctic Flora and Fauna\",\"name\":\"Bison bison\",\"decimalLongitude\":\"-117.6500015258789\",\"decimalLatitude\":\"61.366668701171875\",\"occurrenceID\":\"68428525\",\"common_name\":\"bison, American bison, American Bison, Bisonte americano\",\"basis\":\"Observation\"},{\"geo\":\"Yes\",\"provider\":\"Conservation of Arctic Flora and Fauna\",\"name\":\"Bison bison\",\"decimalLongitude\":\"-117.6500015258789\",\"decimalLatitude\":\"61.366668701171875\",\"occurrenceID\":\"68428526\",\"common_name\":\"bison, American bison, American Bison, Bisonte americano\",\"basis\":\"Observation\"},{\"geo\":\"Yes\",\"provider\":\"Conservation of Arctic Flora and Fauna\",\"name\":\"Bison bison\",\"decimalLongitude\":\"-117.6500015258789\",\"decimalLatitude\":\"61.366668701171875\",\"occurrenceID\":\"68428531\",\"common_name\":\"bison, American bison, American Bison, Bisonte americano\",\"basis\":\"Observation\"},{\"geo\":\"Yes\",\"provider\":\"Conservation of Arctic Flora and Fauna\",\"name\":\"Bison bison\",\"decimalLongitude\":\"-117.6500015258789\",\"decimalLatitude\":\"61.366668701171875\",\"occurrenceID\":\"68428532\",\"common_name\":\"bison, American bison, American Bison, Bisonte americano\",\"basis\":\"Observation\"},{\"geo\":\"Yes\",\"provider\":\"Conservation of Arctic Flora and Fauna\",\"name\":\"Bison bison\",\"decimalLongitude\":\"-117.6500015258789\",\"decimalLatitude\":\"61.366668701171875\",\"occurrenceID\":\"68428533\",\"common_name\":\"bison, American bison, American Bison, Bisonte americano\",\"basis\":\"Observation\"},{\"geo\":\"No\",\"provider\":\"Berkeley Natural History Museums\",\"name\":\"Bison bison\",\"occurrenceID\":\"80957864\",\"common_name\":\"bison, American bison, American Bison, Bisonte americano\",\"basis\":\"Fossil\"},{\"geo\":\"No\",\"provider\":\"Royal Ontario Museum\",\"name\":\"Bison bison\",\"occurrenceID\":\"80957874\",\"common_name\":\"bison, American bison, American Bison, Bisonte americano\",\"basis\":\"Fossil\"}],\"species\":\"Bison bison\",\"eezs\":{\"extent\":{\"miny\":0.0,\"minx\":-164.2799,\"maxy\":70.58,\"maxx\":0.0},\"total\":1,\"data\":{\"US Pacific EEZ\":{\"total\":\"12\",\"name\":\"US Pacific EEZ\"}},\"legend\":{\"0\":\"0 - 12\"}},\"itemsPerPage\":10,\"counties\":{\"extent\":{\"miny\":0.0,\"minx\":-171.96531900015404,\"maxy\":80.00000069960437,\"maxx\":0.0},\"total\":159,\"data\":{\"20055\":{\"total\":\"1\",\"name\":\"Finney County\",\"state\":\"Kansas\"},\"19069\":{\"total\":\"1\",\"name\":\"Franklin County\",\"state\":\"Iowa\"},\"46047\":{\"total\":\"4\",\"name\":\"Fall River County\",\"state\":\"South Dakota\"},\"35031\":{\"total\":\"4\",\"name\":\"McKinley County\",\"state\":\"New Mexico\"},\"04005\":{\"total\":\"5\",\"name\":\"Coconino County\",\"state\":\"Arizona\"},\"36085\":{\"total\":\"1\",\"name\":\"Richmond County\",\"state\":\"New York\"},\"4607\":{\"total\":\"4\",\"name\":\"Division No.  7\",\"state\":\"Manitoba Canada\"},\"31075\":{\"total\":\"1\",\"name\":\"Grant County\",\"state\":\"Nebraska\"},\"56013\":{\"total\":\"1\",\"name\":\"Fremont County\",\"state\":\"Wyoming\"},\"56015\":{\"total\":\"3\",\"name\":\"Goshen County\",\"state\":\"Wyoming\"},\"20173\":{\"total\":\"3\",\"name\":\"Sedgwick County\",\"state\":\"Kansas\"},\"6105\":{\"total\":\"66\",\"name\":\"Region 5\",\"state\":\"Northwest Territories Canada\"},\"20051\":{\"total\":\"4\",\"name\":\"Ellis County\",\"state\":\"Kansas\"},\"49035\":{\"total\":\"8\",\"name\":\"Salt Lake County\",\"state\":\"Utah\"},\"38029\":{\"total\":\"3\",\"name\":\"Emmons County\",\"state\":\"North Dakota\"},\"08041\":{\"total\":\"1\",\"name\":\"El Paso County\",\"state\":\"Colorado\"},\"02180\":{\"total\":\"2\",\"name\":\"Nome Census Area\",\"state\":\"Alaska\"},\"17057\":{\"total\":\"1\",\"name\":\"Fulton County\",\"state\":\"Illinois\"},\"6001\":{\"total\":\"2\",\"name\":\"Yukon\",\"state\":\"Yukon Canada\"},\"21035\":{\"total\":\"1\",\"name\":\"Calloway County\",\"state\":\"Kentucky\"},\"41025\":{\"total\":\"12\",\"name\":\"Harney County\",\"state\":\"Oregon\"},\"31061\":{\"total\":\"1\",\"name\":\"Franklin County\",\"state\":\"Nebraska\"},\"56021\":{\"total\":\"1\",\"name\":\"Laramie County\",\"state\":\"Wyoming\"},\"53033\":{\"total\":\"7\",\"name\":\"King County\",\"state\":\"Washington\"},\"31069\":{\"total\":\"3\",\"name\":\"Garden County\",\"state\":\"Nebraska\"},\"4617\":{\"total\":\"1\",\"name\":\"Division No. 17\",\"state\":\"Manitoba Canada\"},\"33007\":{\"total\":\"1\",\"name\":\"Coos County\",\"state\":\"New Hampshire\"},\"56029\":{\"total\":\"239\",\"name\":\"Park County\",\"state\":\"Wyoming\"},\"08037\":{\"total\":\"1\",\"name\":\"Eagle County\",\"state\":\"Colorado\"},\"30015\":{\"total\":\"1\",\"name\":\"Chouteau County\",\"state\":\"Montana\"},\"08035\":{\"total\":\"1\",\"name\":\"Douglas County\",\"state\":\"Colorado\"},\"26165\":{\"total\":\"1\",\"name\":\"Wexford County\",\"state\":\"Michigan\"},\"27133\":{\"total\":\"1\",\"name\":\"Rock County\",\"state\":\"Minnesota\"},\"30099\":{\"total\":\"1\",\"name\":\"Teton County\",\"state\":\"Montana\"},\"56025\":{\"total\":\"1\",\"name\":\"Natrona County\",\"state\":\"Wyoming\"},\"46033\":{\"total\":\"20\",\"name\":\"Custer County\",\"state\":\"South Dakota\"},\"08031\":{\"total\":\"1\",\"name\":\"Denver County\",\"state\":\"Colorado\"},\"49025\":{\"total\":\"1\",\"name\":\"Kane County\",\"state\":\"Utah\"},\"4611\":{\"total\":\"2\",\"name\":\"Division No. 11\",\"state\":\"Manitoba Canada\"},\"20061\":{\"total\":\"1\",\"name\":\"Geary County\",\"state\":\"Kansas\"},\"48295\":{\"total\":\"7\",\"name\":\"Lipscomb County\",\"state\":\"Texas\"},\"02290\":{\"total\":\"1\",\"name\":\"Yukon-Koyukuk Census Area\",\"state\":\"Alaska\"},\"38085\":{\"total\":\"4\",\"name\":\"Sioux County\",\"state\":\"North Dakota\"},\"48209\":{\"total\":\"1\",\"name\":\"Hays County\",\"state\":\"Texas\"},\"48327\":{\"total\":\"1\",\"name\":\"Menard County\",\"state\":\"Texas\"},\"17141\":{\"total\":\"2\",\"name\":\"Ogle County\",\"state\":\"Illinois\"},\"49017\":{\"total\":\"9\",\"name\":\"Garfield County\",\"state\":\"Utah\"},\"40045\":{\"total\":\"2\",\"name\":\"Ellis County\",\"state\":\"Oklahoma\"},\"17143\":{\"total\":\"1\",\"name\":\"Peoria County\",\"state\":\"Illinois\"},\"05119\":{\"total\":\"1\",\"name\":\"Pulaski County\",\"state\":\"Arkansas\"},\"5959\":{\"total\":\"3\",\"name\":\"Northern Rockies\",\"state\":\"British Columbia Canada\"},\"56039\":{\"total\":\"101\",\"name\":\"Teton County\",\"state\":\"Wyoming\"},\"30089\":{\"total\":\"8\",\"name\":\"Sanders County\",\"state\":\"Montana\"},\"08103\":{\"total\":\"3\",\"name\":\"Rio Blanco County\",\"state\":\"Colorado\"},\"27069\":{\"total\":\"1\",\"name\":\"Kittson County\",\"state\":\"Minnesota\"},\"35015\":{\"total\":\"1\",\"name\":\"Eddy County\",\"state\":\"New Mexico\"},\"27067\":{\"total\":\"1\",\"name\":\"Kandiyohi County\",\"state\":\"Minnesota\"},\"36103\":{\"total\":\"1\",\"name\":\"Suffolk County\",\"state\":\"New York\"},\"02240\":{\"total\":\"26\",\"name\":\"Southeast Fairbanks Census Area\",\"state\":\"Alaska\"},\"5951\":{\"total\":\"1\",\"name\":\"Bulkley-Nechako\",\"state\":\"British Columbia Canada\"},\"30009\":{\"total\":\"1\",\"name\":\"Carbon County\",\"state\":\"Montana\"},\"38007\":{\"total\":\"5\",\"name\":\"Billings County\",\"state\":\"North Dakota\"},\"48045\":{\"total\":\"3\",\"name\":\"Briscoe County\",\"state\":\"Texas\"},\"08063\":{\"total\":\"1\",\"name\":\"Kit Carson County\",\"state\":\"Colorado\"},\"5955\":{\"total\":\"65\",\"name\":\"Peace River\",\"state\":\"British Columbia Canada\"},\"49011\":{\"total\":\"30\",\"name\":\"Davis County\",\"state\":\"Utah\"},\"20049\":{\"total\":\"1\",\"name\":\"Elk County\",\"state\":\"Kansas\"},\"40031\":{\"total\":\"39\",\"name\":\"Comanche County\",\"state\":\"Oklahoma\"},\"48439\":{\"total\":\"2\",\"name\":\"Tarrant County\",\"state\":\"Texas\"},\"21015\":{\"total\":\"1\",\"name\":\"Boone County\",\"state\":\"Kentucky\"},\"35001\":{\"total\":\"3\",\"name\":\"Bernalillo County\",\"state\":\"New Mexico\"},\"30071\":{\"total\":\"2\",\"name\":\"Phillips County\",\"state\":\"Montana\"},\"31041\":{\"total\":\"1\",\"name\":\"Custer County\",\"state\":\"Nebraska\"},\"35007\":{\"total\":\"3\",\"name\":\"Colfax County\",\"state\":\"New Mexico\"},\"53053\":{\"total\":\"1\",\"name\":\"Pierce County\",\"state\":\"Washington\"},\"06037\":{\"total\":\"5\",\"name\":\"Los Angeles County\",\"state\":\"California\"},\"35006\":{\"total\":\"1\",\"name\":\"Cibola County\",\"state\":\"New Mexico\"},\"08057\":{\"total\":\"1\",\"name\":\"Jackson County\",\"state\":\"Colorado\"},\"56045\":{\"total\":\"1\",\"name\":\"Weston County\",\"state\":\"Wyoming\"},\"29015\":{\"total\":\"7\",\"name\":\"Benton County\",\"state\":\"Missouri\"},\"20161\":{\"total\":\"2\",\"name\":\"Riley County\",\"state\":\"Kansas\"},\"18129\":{\"total\":\"1\",\"name\":\"Posey County\",\"state\":\"Indiana\"},\"16033\":{\"total\":\"1\",\"name\":\"Clark County\",\"state\":\"Idaho\"},\"40025\":{\"total\":\"1\",\"name\":\"Cimarron County\",\"state\":\"Oklahoma\"},\"48303\":{\"total\":\"3\",\"name\":\"Lubbock County\",\"state\":\"Texas\"},\"20017\":{\"total\":\"1\",\"name\":\"Chase County\",\"state\":\"Kansas\"},\"02261\":{\"total\":\"1\",\"name\":\"Valdez-Cordova Census Area\",\"state\":\"Alaska\"},\"30103\":{\"total\":\"1\",\"name\":\"Treasure County\",\"state\":\"Montana\"},\"26075\":{\"total\":\"1\",\"name\":\"Jackson County\",\"state\":\"Michigan\"},\"4807\":{\"total\":\"1\",\"name\":\"Division No.  7\",\"state\":\"Alberta Canada\"},\"08123\":{\"total\":\"1\",\"name\":\"Weld County\",\"state\":\"Colorado\"},\"31031\":{\"total\":\"1\",\"name\":\"Cherry County\",\"state\":\"Nebraska\"},\"08001\":{\"total\":\"1\",\"name\":\"Adams County\",\"state\":\"Colorado\"},\"48265\":{\"total\":\"1\",\"name\":\"Kerr County\",\"state\":\"Texas\"},\"48141\":{\"total\":\"1\",\"name\":\"El Paso County\",\"state\":\"Texas\"},\"4801\":{\"total\":\"6\",\"name\":\"Division No.  1\",\"state\":\"Alberta Canada\"},\"08081\":{\"total\":\"1\",\"name\":\"Moffat County\",\"state\":\"Colorado\"},\"38053\":{\"total\":\"2\",\"name\":\"McKenzie County\",\"state\":\"North Dakota\"},\"48499\":{\"total\":\"2\",\"name\":\"Wood County\",\"state\":\"Texas\"},\"46113\":{\"total\":\"1\",\"name\":\"Shannon County\",\"state\":\"South Dakota\"},\"40139\":{\"total\":\"1\",\"name\":\"Texas County\",\"state\":\"Oklahoma\"},\"19153\":{\"total\":\"1\",\"name\":\"Polk County\",\"state\":\"Iowa\"},\"08119\":{\"total\":\"1\",\"name\":\"Teller County\",\"state\":\"Colorado\"},\"20149\":{\"total\":\"1\",\"name\":\"Pottawatomie County\",\"state\":\"Kansas\"},\"4815\":{\"total\":\"2\",\"name\":\"Division No. 15\",\"state\":\"Alberta Canada\"},\"53077\":{\"total\":\"1\",\"name\":\"Yakima County\",\"state\":\"Washington\"},\"4816\":{\"total\":\"257\",\"name\":\"Division No. 16\",\"state\":\"Alberta Canada\"},\"08115\":{\"total\":\"1\",\"name\":\"Sedgwick County\",\"state\":\"Colorado\"},\"08079\":{\"total\":\"1\",\"name\":\"Mineral County\",\"state\":\"Colorado\"},\"08075\":{\"total\":\"6\",\"name\":\"Logan County\",\"state\":\"Colorado\"},\"12123\":{\"total\":\"1\",\"name\":\"Taylor County\",\"state\":\"Florida\"},\"48497\":{\"total\":\"1\",\"name\":\"Wise County\",\"state\":\"Texas\"},\"4810\":{\"total\":\"9\",\"name\":\"Division No. 10\",\"state\":\"Alberta Canada\"},\"17017\":{\"total\":\"1\",\"name\":\"Cass County\",\"state\":\"Illinois\"},\"4812\":{\"total\":\"1\",\"name\":\"Division No. 12\",\"state\":\"Alberta Canada\"},\"02090\":{\"total\":\"1\",\"name\":\"Fairbanks North Star Borough\",\"state\":\"Alaska\"},\"18157\":{\"total\":\"1\",\"name\":\"Tippecanoe County\",\"state\":\"Indiana\"},\"39097\":{\"total\":\"1\",\"name\":\"Madison County\",\"state\":\"Ohio\"},\"17103\":{\"total\":\"1\",\"name\":\"Lee County\",\"state\":\"Illinois\"},\"46105\":{\"total\":\"1\",\"name\":\"Perkins County\",\"state\":\"South Dakota\"},\"46103\":{\"total\":\"69\",\"name\":\"Pennington County\",\"state\":\"South Dakota\"},\"20199\":{\"total\":\"6\",\"name\":\"Wallace County\",\"state\":\"Kansas\"},\"20197\":{\"total\":\"1\",\"name\":\"Wabaunsee County\",\"state\":\"Kansas\"},\"48367\":{\"total\":\"2\",\"name\":\"Parker County\",\"state\":\"Texas\"},\"4707\":{\"total\":\"1\",\"name\":\"Division No.  7\",\"state\":\"Saskatchewan Canada\"},\"30047\":{\"total\":\"4\",\"name\":\"Lake County\",\"state\":\"Montana\"},\"35057\":{\"total\":\"1\",\"name\":\"Torrance County\",\"state\":\"New Mexico\"},\"49057\":{\"total\":\"3\",\"name\":\"Weber County\",\"state\":\"Utah\"},\"06085\":{\"total\":\"1\",\"name\":\"Santa Clara County\",\"state\":\"California\"},\"31017\":{\"total\":\"3\",\"name\":\"Brown County\",\"state\":\"Nebraska\"},\"4703\":{\"total\":\"1\",\"name\":\"Division No.  3\",\"state\":\"Saskatchewan Canada\"},\"4704\":{\"total\":\"1\",\"name\":\"Division No.  4\",\"state\":\"Saskatchewan Canada\"},\"40113\":{\"total\":\"6\",\"name\":\"Osage County\",\"state\":\"Oklahoma\"},\"41047\":{\"total\":\"26\",\"name\":\"Marion County\",\"state\":\"Oregon\"},\"19099\":{\"total\":\"1\",\"name\":\"Jasper County\",\"state\":\"Iowa\"},\"6101\":{\"total\":\"1\",\"name\":\"Region 1\",\"state\":\"Northwest Territories Canada\"},\"6104\":{\"total\":\"126\",\"name\":\"Region 4\",\"state\":\"Northwest Territories Canada\"},\"20087\":{\"total\":\"1\",\"name\":\"Jefferson County\",\"state\":\"Kansas\"},\"12065\":{\"total\":\"1\",\"name\":\"Jefferson County\",\"state\":\"Florida\"},\"48115\":{\"total\":\"1\",\"name\":\"Dawson County\",\"state\":\"Texas\"},\"20127\":{\"total\":\"2\",\"name\":\"Morris County\",\"state\":\"Kansas\"},\"30035\":{\"total\":\"2\",\"name\":\"Glacier County\",\"state\":\"Montana\"},\"56005\":{\"total\":\"1\",\"name\":\"Campbell County\",\"state\":\"Wyoming\"},\"31123\":{\"total\":\"1\",\"name\":\"Morrill County\",\"state\":\"Nebraska\"},\"56007\":{\"total\":\"1\",\"name\":\"Carbon County\",\"state\":\"Wyoming\"},\"30031\":{\"total\":\"5\",\"name\":\"Gallatin County\",\"state\":\"Montana\"},\"30033\":{\"total\":\"5\",\"name\":\"Garfield County\",\"state\":\"Montana\"},\"31001\":{\"total\":\"1\",\"name\":\"Adams County\",\"state\":\"Nebraska\"},\"31121\":{\"total\":\"2\",\"name\":\"Merrick County\",\"state\":\"Nebraska\"},\"49045\":{\"total\":\"4\",\"name\":\"Tooele County\",\"state\":\"Utah\"},\"4711\":{\"total\":\"2\",\"name\":\"Division No. 11\",\"state\":\"Saskatchewan Canada\"},\"06073\":{\"total\":\"1\",\"name\":\"San Diego County\",\"state\":\"California\"},\"08093\":{\"total\":\"3\",\"name\":\"Park County\",\"state\":\"Colorado\"},\"56009\":{\"total\":\"1\",\"name\":\"Converse County\",\"state\":\"Wyoming\"},\"5924\":{\"total\":\"2\",\"name\":\"Strathcona\",\"state\":\"British Columbia Canada\"},\"4715\":{\"total\":\"3\",\"name\":\"Division No. 15\",\"state\":\"Saskatchewan Canada\"},\"31129\":{\"total\":\"2\",\"name\":\"Nuckolls County\",\"state\":\"Nebraska\"},\"3506\":{\"total\":\"1\",\"name\":\"Ottawa\",\"state\":\"Ontario Canada\"}},\"legend\":{\"0\":\"0 - 53\",\"1\":\"53 - 106\",\"2\":\"106 - 159\",\"4\":\"212 - 265\",\"15\":\"795 - 853\"}},\"type\":\"scientific_name\",\"georeferenced\":1385,\"states\":{\"extent\":{\"miny\":0.0,\"minx\":-179.23108599959195,\"maxy\":80.00000069960437,\"maxx\":179.85968100035376},\"total\":36,\"data\":{\"Oregon\":{\"total\":\"38\",\"fips\":\"41\"},\"Indiana\":{\"total\":\"2\",\"fips\":\"18\"},\"Wyoming\":{\"total\":\"350\",\"fips\":\"56\"},\"Oklahoma\":{\"total\":\"49\",\"fips\":\"40\"},\"British Columbia Canada\":{\"total\":\"71\",\"fips\":\"BC\"},\"Saskatchewan Canada\":{\"total\":\"8\",\"fips\":\"SK\"},\"Arkansas\":{\"total\":\"1\",\"fips\":\"05\"},\"Utah\":{\"total\":\"55\",\"fips\":\"49\"},\"Washington\":{\"total\":\"9\",\"fips\":\"53\"},\"Yukon Canada\":{\"total\":\"2\",\"fips\":\"YT\"},\"Nebraska\":{\"total\":\"16\",\"fips\":\"31\"},\"Ontario Canada\":{\"total\":\"1\",\"fips\":\"ON\"},\"Manitoba Canada\":{\"total\":\"7\",\"fips\":\"MB\"},\"Colorado\":{\"total\":\"24\",\"fips\":\"08\"},\"Missouri\":{\"total\":\"7\",\"fips\":\"29\"},\"Alaska\":{\"total\":\"31\",\"fips\":\"02\"},\"Alberta Canada\":{\"total\":\"276\",\"fips\":\"AB\"},\"North Dakota\":{\"total\":\"14\",\"fips\":\"38\"},\"Arizona\":{\"total\":\"5\",\"fips\":\"04\"},\"New York\":{\"total\":\"2\",\"fips\":\"36\"},\"Montana\":{\"total\":\"30\",\"fips\":\"30\"},\"Kentucky\":{\"total\":\"2\",\"fips\":\"21\"},\"South Dakota\":{\"total\":\"95\",\"fips\":\"46\"},\"Minnesota\":{\"total\":\"3\",\"fips\":\"27\"},\"Kansas\":{\"total\":\"24\",\"fips\":\"20\"},\"California\":{\"total\":\"7\",\"fips\":\"06\"},\"Florida\":{\"total\":\"2\",\"fips\":\"12\"},\"Michigan\":{\"total\":\"2\",\"fips\":\"26\"},\"Iowa\":{\"total\":\"3\",\"fips\":\"19\"},\"New Mexico\":{\"total\":\"13\",\"fips\":\"35\"},\"Texas\":{\"total\":\"25\",\"fips\":\"48\"},\"Illinois\":{\"total\":\"6\",\"fips\":\"17\"},\"New Hampshire\":{\"total\":\"1\",\"fips\":\"33\"},\"Ohio\":{\"total\":\"1\",\"fips\":\"39\"},\"Northwest Territories Canada\":{\"total\":\"193\",\"fips\":\"NT\"},\"Idaho\":{\"total\":\"1\",\"fips\":\"16\"}},\"legend\":{\"0\":\"0 - 21\",\"1\":\"21 - 42\",\"2\":\"42 - 63\",\"13\":\"273 - 294\",\"3\":\"63 - 84\",\"4\":\"84 - 105\",\"15\":\"315 - 350\",\"9\":\"189 - 210\"}}}\n"
     ]
    }
   ],
   "source": [
    "response = requests.get(url,params)\n",
    "print(response.text)"
   ]
  },
  {
   "cell_type": "markdown",
   "metadata": {},
   "source": [
    "**Yikes**, that's much less readable than the NWIS output!\n",
    "\n",
    "Well, that's because the *response* from the BISON server is in **JSON** format. JSON, short for JavaScript Object Notation, is a text document that stores information in key:value pairs, much like a Python dictionary. Still, it's a raw text object, but one that we convert into a Python dictionary using Python's `json` package. "
   ]
  },
  {
   "cell_type": "code",
   "execution_count": 6,
   "metadata": {},
   "outputs": [
    {
     "data": {
      "text/plain": [
       "dict"
      ]
     },
     "execution_count": 6,
     "metadata": {},
     "output_type": "execute_result"
    }
   ],
   "source": [
    "#Import the module\n",
    "import json\n",
    "\n",
    "#Convert the response \n",
    "data = json.loads(response.content)\n",
    "type(data)"
   ]
  },
  {
   "cell_type": "code",
   "execution_count": 10,
   "metadata": {},
   "outputs": [
    {
     "data": {
      "text/plain": [
       "dict_keys(['occurrences', 'total', 'searchTime', 'offset', 'data', 'species', 'eezs', 'itemsPerPage', 'counties', 'type', 'georeferenced', 'states'])"
      ]
     },
     "execution_count": 10,
     "metadata": {},
     "output_type": "execute_result"
    }
   ],
   "source": [
    "#Ok, if it's a dictionary, what are it's keys? \n",
    "data.keys()"
   ]
  },
  {
   "cell_type": "code",
   "execution_count": 11,
   "metadata": {
    "scrolled": true
   },
   "outputs": [
    {
     "data": {
      "text/plain": [
       "[{'geo': 'Yes',\n",
       "  'provider': 'Conservation of Arctic Flora and Fauna',\n",
       "  'name': 'Bison bison',\n",
       "  'decimalLongitude': '-117.6500015258789',\n",
       "  'decimalLatitude': '61.366668701171875',\n",
       "  'occurrenceID': '68428522',\n",
       "  'common_name': 'bison, American bison, American Bison, Bisonte americano',\n",
       "  'basis': 'Observation'},\n",
       " {'geo': 'Yes',\n",
       "  'provider': 'Conservation of Arctic Flora and Fauna',\n",
       "  'name': 'Bison bison',\n",
       "  'decimalLongitude': '-117.6500015258789',\n",
       "  'decimalLatitude': '61.366668701171875',\n",
       "  'occurrenceID': '68428523',\n",
       "  'common_name': 'bison, American bison, American Bison, Bisonte americano',\n",
       "  'basis': 'Observation'},\n",
       " {'geo': 'Yes',\n",
       "  'provider': 'Conservation of Arctic Flora and Fauna',\n",
       "  'name': 'Bison bison',\n",
       "  'decimalLongitude': '-117.6500015258789',\n",
       "  'decimalLatitude': '61.366668701171875',\n",
       "  'occurrenceID': '68428524',\n",
       "  'common_name': 'bison, American bison, American Bison, Bisonte americano',\n",
       "  'basis': 'Observation'},\n",
       " {'geo': 'Yes',\n",
       "  'provider': 'Conservation of Arctic Flora and Fauna',\n",
       "  'name': 'Bison bison',\n",
       "  'decimalLongitude': '-117.6500015258789',\n",
       "  'decimalLatitude': '61.366668701171875',\n",
       "  'occurrenceID': '68428525',\n",
       "  'common_name': 'bison, American bison, American Bison, Bisonte americano',\n",
       "  'basis': 'Observation'},\n",
       " {'geo': 'Yes',\n",
       "  'provider': 'Conservation of Arctic Flora and Fauna',\n",
       "  'name': 'Bison bison',\n",
       "  'decimalLongitude': '-117.6500015258789',\n",
       "  'decimalLatitude': '61.366668701171875',\n",
       "  'occurrenceID': '68428526',\n",
       "  'common_name': 'bison, American bison, American Bison, Bisonte americano',\n",
       "  'basis': 'Observation'},\n",
       " {'geo': 'Yes',\n",
       "  'provider': 'Conservation of Arctic Flora and Fauna',\n",
       "  'name': 'Bison bison',\n",
       "  'decimalLongitude': '-117.6500015258789',\n",
       "  'decimalLatitude': '61.366668701171875',\n",
       "  'occurrenceID': '68428531',\n",
       "  'common_name': 'bison, American bison, American Bison, Bisonte americano',\n",
       "  'basis': 'Observation'},\n",
       " {'geo': 'Yes',\n",
       "  'provider': 'Conservation of Arctic Flora and Fauna',\n",
       "  'name': 'Bison bison',\n",
       "  'decimalLongitude': '-117.6500015258789',\n",
       "  'decimalLatitude': '61.366668701171875',\n",
       "  'occurrenceID': '68428532',\n",
       "  'common_name': 'bison, American bison, American Bison, Bisonte americano',\n",
       "  'basis': 'Observation'},\n",
       " {'geo': 'Yes',\n",
       "  'provider': 'Conservation of Arctic Flora and Fauna',\n",
       "  'name': 'Bison bison',\n",
       "  'decimalLongitude': '-117.6500015258789',\n",
       "  'decimalLatitude': '61.366668701171875',\n",
       "  'occurrenceID': '68428533',\n",
       "  'common_name': 'bison, American bison, American Bison, Bisonte americano',\n",
       "  'basis': 'Observation'},\n",
       " {'geo': 'No',\n",
       "  'provider': 'Berkeley Natural History Museums',\n",
       "  'name': 'Bison bison',\n",
       "  'occurrenceID': '80957864',\n",
       "  'common_name': 'bison, American bison, American Bison, Bisonte americano',\n",
       "  'basis': 'Fossil'},\n",
       " {'geo': 'No',\n",
       "  'provider': 'Royal Ontario Museum',\n",
       "  'name': 'Bison bison',\n",
       "  'occurrenceID': '80957874',\n",
       "  'common_name': 'bison, American bison, American Bison, Bisonte americano',\n",
       "  'basis': 'Fossil'}]"
      ]
     },
     "execution_count": 11,
     "metadata": {},
     "output_type": "execute_result"
    }
   ],
   "source": [
    "#What are the values of the 'data' key\n",
    "data['data']"
   ]
  },
  {
   "cell_type": "code",
   "execution_count": null,
   "metadata": {},
   "outputs": [],
   "source": [
    "#Oh, it's a list of occurrences! Let's examine the first one\n",
    "data['data'][0]\n",
    "#We see it's a dictionary too"
   ]
  },
  {
   "cell_type": "code",
   "execution_count": null,
   "metadata": {},
   "outputs": [],
   "source": [
    "#We can get the latitude of the record from it's `decimalLatitude` key\n",
    "data['data'][0]['decimalLatitude']"
   ]
  },
  {
   "cell_type": "markdown",
   "metadata": {},
   "source": [
    "So we see the Bison observations are stored as list of dictionaries which are accessed within the `data` key in the results dictionary genrated from the JSON response to our API request. (Phew!)\n",
    "\n",
    "With a bit more code we can loop through all the data records and print out the lat and long coordinates..."
   ]
  },
  {
   "cell_type": "code",
   "execution_count": null,
   "metadata": {},
   "outputs": [],
   "source": [
    "#Loop thorough each observation and print the lat and long values\n",
    "for observation in data['data']:\n",
    "    print (observation['decimalLatitude'],observation['decimalLongitude'])"
   ]
  },
  {
   "cell_type": "markdown",
   "metadata": {},
   "source": [
    "► *If the above throws an error, can you debug it?*"
   ]
  },
  {
   "cell_type": "markdown",
   "metadata": {},
   "source": [
    "### Preview of 'Pandas' - clever Python package with many uses!\n",
    "Pandas can create a \"data frame\" from dictionary values. We'll talk about this soon.."
   ]
  },
  {
   "cell_type": "code",
   "execution_count": null,
   "metadata": {},
   "outputs": [],
   "source": [
    "import pandas as pd\n",
    "df = pd.DataFrame(data['data'])\n",
    "df.head()"
   ]
  },
  {
   "cell_type": "markdown",
   "metadata": {},
   "source": [
    "And Pandas allows us to do some nifty analyses, including subsetting records where the provider is 'iNaturalist.org'"
   ]
  },
  {
   "cell_type": "code",
   "execution_count": null,
   "metadata": {},
   "outputs": [],
   "source": [
    "#Generate a list of providers\n",
    "df.provider.unique()"
   ]
  },
  {
   "cell_type": "code",
   "execution_count": null,
   "metadata": {},
   "outputs": [],
   "source": [
    "df[df.provider == 'Conservation of Arctic Flora and Fauna']"
   ]
  }
 ],
 "metadata": {
  "kernelspec": {
   "display_name": "Python 3",
   "language": "python",
   "name": "python3"
  },
  "language_info": {
   "codemirror_mode": {
    "name": "ipython",
    "version": 3
   },
   "file_extension": ".py",
   "mimetype": "text/x-python",
   "name": "python",
   "nbconvert_exporter": "python",
   "pygments_lexer": "ipython3",
   "version": "3.6.6"
  }
 },
 "nbformat": 4,
 "nbformat_minor": 2
}
