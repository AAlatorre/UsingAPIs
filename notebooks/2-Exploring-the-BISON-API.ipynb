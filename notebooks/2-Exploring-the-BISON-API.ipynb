{
 "cells": [
  {
   "cell_type": "markdown",
   "metadata": {},
   "source": [
    "### Using the BISON API\n",
    "The USGS provides an API for accessing species observation data. https://bison.usgs.gov/doc/api.jsp\n",
    "\n",
    "This API is much better documented than the NWIS API and we'll use it to dig a bit deeper into how the `requests` package can faciliate data access via APIs. "
   ]
  },
  {
   "cell_type": "markdown",
   "metadata": {},
   "source": [
    "We'll begin by replicating the example API call they show on their web page:<br> \n",
    "[https://bison.usgs.gov/api/search.json?species=Bison bison&type=scientific_name&start=0&count=1](\n",
    "https://bison.usgs.gov/api/search.json?species=Bison%20bison&type=scientific_name&start=0&count=1)"
   ]
  },
  {
   "cell_type": "code",
   "execution_count": null,
   "metadata": {},
   "outputs": [],
   "source": [
    "#First, import the wonderful requests module\n",
    "import requests"
   ]
  },
  {
   "cell_type": "code",
   "execution_count": null,
   "metadata": {},
   "outputs": [],
   "source": [
    "#Now, we'll deconstruct the example URL into the service URL and parameters, saving the paramters as a dictionary\n",
    "url = 'http://bison.usgs.gov/api/search.json'\n",
    "params = {'species':'Bison bison',\n",
    "          'type':'scientific_name',\n",
    "          'start':'0',\n",
    "          'count':'10'\n",
    "         }"
   ]
  },
  {
   "cell_type": "code",
   "execution_count": null,
   "metadata": {},
   "outputs": [],
   "source": [
    "response = requests.get(url,params)\n",
    "print(response.content)"
   ]
  },
  {
   "cell_type": "markdown",
   "metadata": {},
   "source": [
    "**Yikes**, that's much less readable than the NWIS output!\n",
    "\n",
    "Well, that's because the *response* from the BISON server is in JSON format. We can use Python's build in `json` module to convert this raw JSON text to a handy dictionary (of dictionaries) that we can [somewhat] easily manipulate..."
   ]
  },
  {
   "cell_type": "code",
   "execution_count": null,
   "metadata": {},
   "outputs": [],
   "source": [
    "#Import the module\n",
    "import json\n",
    "\n",
    "#Convert the response \n",
    "data = json.loads(response.content)\n",
    "type(data)"
   ]
  },
  {
   "cell_type": "code",
   "execution_count": null,
   "metadata": {},
   "outputs": [],
   "source": [
    "#Ok, if it's a dictionary, what are it's keys? \n",
    "data.keys()"
   ]
  },
  {
   "cell_type": "code",
   "execution_count": null,
   "metadata": {},
   "outputs": [],
   "source": [
    "#What are the values of the 'data' key\n",
    "data['data']"
   ]
  },
  {
   "cell_type": "code",
   "execution_count": null,
   "metadata": {},
   "outputs": [],
   "source": [
    "#Oh, it's a list of occurrences! Let's examine the first one\n",
    "data['data'][0]\n",
    "#We see it's a dictionary too"
   ]
  },
  {
   "cell_type": "code",
   "execution_count": null,
   "metadata": {},
   "outputs": [],
   "source": [
    "#We can get the latitude of the record from it's `decimalLatitude` key\n",
    "data['data'][0]['decimalLatitude']"
   ]
  },
  {
   "cell_type": "markdown",
   "metadata": {},
   "source": [
    "So we see the Bison observations are stored as list of dictionaries which are accessed within the `data` key in the results dictionary genrated from the JSON response to our API request. (Phew!)\n",
    "\n",
    "With a bit more code we can loop through all the data records and print out the lat and long coordinates..."
   ]
  },
  {
   "cell_type": "code",
   "execution_count": null,
   "metadata": {},
   "outputs": [],
   "source": [
    "#Loop thorough each observation and print the lat and long values\n",
    "for observation in data['data']:\n",
    "    print (observation['decimalLatitude'],observation['decimalLongitude'])"
   ]
  },
  {
   "cell_type": "markdown",
   "metadata": {},
   "source": [
    "► *If the above throws an error, can you debug it?*"
   ]
  },
  {
   "cell_type": "markdown",
   "metadata": {},
   "source": [
    "### Preview of 'Pandas' - clever Python package with many uses!\n",
    "Pandas can create a \"data frame\" from dictionary values. We'll talk about this soon.."
   ]
  },
  {
   "cell_type": "code",
   "execution_count": null,
   "metadata": {},
   "outputs": [],
   "source": [
    "import pandas as pd\n",
    "df = pd.DataFrame(data['data'])\n",
    "df.head()"
   ]
  },
  {
   "cell_type": "markdown",
   "metadata": {},
   "source": [
    "And Pandas allows us to do some nifty analyses, including subsetting records where the provider is 'iNaturalist.org'"
   ]
  },
  {
   "cell_type": "code",
   "execution_count": null,
   "metadata": {},
   "outputs": [],
   "source": [
    "#Generate a list of providers\n",
    "df.provider.unique()"
   ]
  },
  {
   "cell_type": "code",
   "execution_count": null,
   "metadata": {},
   "outputs": [],
   "source": [
    "df[df.provider == 'Conservation of Arctic Flora and Fauna']"
   ]
  }
 ],
 "metadata": {
  "kernelspec": {
   "display_name": "Python 3",
   "language": "python",
   "name": "python3"
  },
  "language_info": {
   "codemirror_mode": {
    "name": "ipython",
    "version": 3
   },
   "file_extension": ".py",
   "mimetype": "text/x-python",
   "name": "python",
   "nbconvert_exporter": "python",
   "pygments_lexer": "ipython3",
   "version": "3.6.6"
  }
 },
 "nbformat": 4,
 "nbformat_minor": 2
}
