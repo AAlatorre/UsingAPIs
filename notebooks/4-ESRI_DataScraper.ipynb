{
 "cells": [
  {
   "cell_type": "markdown",
   "metadata": {},
   "source": [
    "## ESRI Data Scraper\n",
    "Pulls features from ESRI Map Servers\n",
    "\n",
    "Here we'll examine an ESRI MapServer (aka a \"REST Endpoint\"), specifically NC OneMap's Census Service located here:https://services.nconemap.gov/secure/rest/services/NC1Map_Census/MapServer. At the bottom of this page, you'll see the services it supports. Among them is the [`Export Map`](https://developers.arcgis.com/rest/services-reference/export-map.htm) service. We will first explore how we can use that service to return maps of specific layers, specific features, and at specific zooms.\n",
    "\n",
    "Then, we'll examine services related to a specific layer in this map service, namely the 2010 Census Tract features. We'll review how the layer's [`query`]() service can allow us to nab all of Durham's tract features. \n"
   ]
  },
  {
   "cell_type": "markdown",
   "metadata": {},
   "source": [
    "# Navigating the `Export Map` service\n",
    "* Click on the [`Export Map`](https://services.nconemap.gov/secure/rest/services/NC1Map_Census/MapServer/export?bbox=115398.88167874969,137561.22299815627,951284.8934306827,392245.24220382335) link at the bottom of the MapServer's main page. This will open a page where we can tinker with all the parameters related to the service.\n",
    "* Change the zoom of the map by supplying the coordinates `-78.8, 35.7, -79.0, 36.3` in the `Bounding Box:` setting. \n",
    "* Because the bounding coordinates we just gave are in WGS 84, set the `Bounding Box Spatial Reference` to the [WKID](http://spatialreference.org/ref/epsg/wgs-84/) for WGS 84, which happens to be `4326`.\n",
    "* Refresh the map by hitting `Export Map (Get)` at the bottom to see our changes (or just `Enter` might work).\n",
    "\n",
    "We just zoomed our map using bounding box coordinates! Now to show different data.\n",
    "\n",
    "* In the `Layers:` box, enter `show:0` to display only the first layer in the map service (1970 Census Boundary/Population ). Then click `Export Map (Get)` at the bottom. Refresh your map.\n",
    "\n",
    "Finally, let's filter what records are shown. Here we'll select features in Layer 9 (2010 Tracts) that have a GEOID10 starting with \"37063\", which is the FIPS code for Durham County. \n",
    "* In the `Layer Definitions` box, enter `{\"9\":\"GEOID10 LIKE '37063%'\"}`"
   ]
  },
  {
   "cell_type": "code",
   "execution_count": 2,
   "metadata": {},
   "outputs": [],
   "source": [
    "import requests"
   ]
  },
  {
   "cell_type": "code",
   "execution_count": 24,
   "metadata": {},
   "outputs": [],
   "source": [
    "#Get the URL of the map service for layer 9 in the NC1Map Census map service folder\n",
    "serviceURL = 'https://services.nconemap.gov/secure/rest/services/NC1Map_Census/MapServer/export'"
   ]
  },
  {
   "cell_type": "code",
   "execution_count": 25,
   "metadata": {},
   "outputs": [],
   "source": [
    "#Set the parameters for our service\n",
    "params = {'bbox':'-78.8%2C+35.7%2C+-79.0%2C+36.3',\n",
    "           'bboxSR':'4326',\n",
    "           'layers':'',\n",
    "           'layerDefs':'%7B%229%22%3A%22GEOID10+LIKE+%2737063%25%27%22%7D',\n",
    "           'size':'',\n",
    "           'imageSR':'',\n",
    "           'format':'png',\n",
    "           'transparent':'false',\n",
    "           'dpi':'',\n",
    "           'time':'',\n",
    "           'layerTimeOptions':'',\n",
    "           'dynamicLayers':'',\n",
    "           'gdbVersion':'',\n",
    "           'mapScale':'',\n",
    "           'rotation':'',\n",
    "           'datumTransformations':'',\n",
    "           'layerParameterValues':'',\n",
    "           'mapRangeValues':'',\n",
    "           'layerRangeValues':'',\n",
    "           'f':'json'}"
   ]
  },
  {
   "cell_type": "code",
   "execution_count": 26,
   "metadata": {},
   "outputs": [],
   "source": [
    "#Query the service url, in JSON format\n",
    "response = requests.get(serviceURL,params)\n",
    "json_response = response.json()"
   ]
  },
  {
   "cell_type": "code",
   "execution_count": 27,
   "metadata": {},
   "outputs": [
    {
     "data": {
      "text/plain": [
       "dict_keys(['href', 'width', 'height', 'extent', 'scale'])"
      ]
     },
     "execution_count": 27,
     "metadata": {},
     "output_type": "execute_result"
    }
   ],
   "source": [
    "json_response.keys()"
   ]
  },
  {
   "cell_type": "code",
   "execution_count": 29,
   "metadata": {},
   "outputs": [],
   "source": [
    "imageURL = json_response['href']"
   ]
  },
  {
   "cell_type": "code",
   "execution_count": 32,
   "metadata": {},
   "outputs": [
    {
     "data": {
      "text/html": [
       "<img src=\"https://services.nconemap.gov/secure/rest/directories/arcgisoutput/NC1Map_Census_MapServer/_ags_map9cae21aeddd04e07a1c6947c45ceaa98.png\"/>"
      ],
      "text/plain": [
       "<IPython.core.display.Image object>"
      ]
     },
     "execution_count": 32,
     "metadata": {},
     "output_type": "execute_result"
    }
   ],
   "source": [
    "from IPython.display import Image\n",
    "Image(url=imageURL)"
   ]
  }
 ],
 "metadata": {
  "kernelspec": {
   "display_name": "Python 3",
   "language": "python",
   "name": "python3"
  },
  "language_info": {
   "codemirror_mode": {
    "name": "ipython",
    "version": 3
   },
   "file_extension": ".py",
   "mimetype": "text/x-python",
   "name": "python",
   "nbconvert_exporter": "python",
   "pygments_lexer": "ipython3",
   "version": "3.6.6"
  }
 },
 "nbformat": 4,
 "nbformat_minor": 2
}
