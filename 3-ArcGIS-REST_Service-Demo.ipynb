{
 "cells": [
  {
   "cell_type": "code",
   "execution_count": 1,
   "metadata": {},
   "outputs": [],
   "source": [
    "#import the modules\n",
    "import requests"
   ]
  },
  {
   "cell_type": "code",
   "execution_count": 2,
   "metadata": {},
   "outputs": [],
   "source": [
    "#construct the API call\n",
    "theURL = \"https://ns-win2012test.win.duke.edu/arcgis/rest/services/ENV859/Discharge/MapServer/export\"\n",
    "params = {\"bbox\":\"-79.3, 35,-77.9, 36.5\",\n",
    "          \"bboxSR\":\"4269\",\n",
    "          \"layers\":\"\",\n",
    "          \"layerDefs\":\"\",\n",
    "          \"size\":\"\",\n",
    "          \"imageSR\":\"\",\n",
    "          \"format\":\"png\",\n",
    "          \"transparent\":\"true\",\n",
    "          \"dpi\":\"\",\n",
    "          \"time\":\"\",\n",
    "          \"layerTimeOptions\":\"\",\n",
    "          \"dynamicLayers\":\"\",\n",
    "          \"gdbVersion\":\"\",\n",
    "          \"mapScale\":\"\",\n",
    "          \"f\":\"image\"\n",
    "         } "
   ]
  },
  {
   "cell_type": "code",
   "execution_count": 3,
   "metadata": {},
   "outputs": [],
   "source": [
    "response = requests.get(theURL, params)"
   ]
  },
  {
   "cell_type": "code",
   "execution_count": 4,
   "metadata": {},
   "outputs": [
    {
     "data": {
      "image/png": "[encoded data removed]",
      "text/plain": [
       "<IPython.core.display.Image object>"
      ]
     },
     "execution_count": 4,
     "metadata": {},
     "output_type": "execute_result"
    }
   ],
   "source": [
    "from IPython.display import Image\n",
    "Image(response.content)"
   ]
  },
  {
   "cell_type": "code",
   "execution_count": null,
   "metadata": {},
   "outputs": [],
   "source": []
  }
 ],
 "metadata": {
  "kernelspec": {
   "display_name": "Python 3",
   "language": "python",
   "name": "python3"
  },
  "language_info": {
   "codemirror_mode": {
    "name": "ipython",
    "version": 3
   },
   "file_extension": ".py",
   "mimetype": "text/x-python",
   "name": "python",
   "nbconvert_exporter": "python",
   "pygments_lexer": "ipython3",
   "version": "3.6.6"
  }
 },
 "nbformat": 4,
 "nbformat_minor": 2
}
